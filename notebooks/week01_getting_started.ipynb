{
 "cells": [
  {
   "cell_type": "markdown",
   "metadata": {},
   "source": [
    "# Week 2: Getting Started with Project Brew-Right\n",
    "\n",
    "## 🎯 Objectives\n",
    "- Test Python environment\n"
   ]
  },
  {
   "cell_type": "code",
   "execution_count": 2,
   "metadata": {},
   "outputs": [
    {
     "name": "stdout",
     "output_type": "stream",
     "text": [
      "✅ All libraries imported successfully!\n"
     ]
    }
   ],
   "source": [
    "# Test imports\n",
    "import pandas as pd\n",
    "import duckdb\n",
    "import boto3\n",
    "print(\"✅ All libraries imported successfully!\")"
   ]
  },
  {
   "cell_type": "code",
   "execution_count": 1,
   "metadata": {},
   "outputs": [
    {
     "name": "stdout",
     "output_type": "stream",
     "text": [
      "Defaulting to user installation because normal site-packages is not writeable\n",
      "Requirement already satisfied: boto3 in /home/vscode/.local/lib/python3.10/site-packages (1.34.25)\n",
      "Requirement already satisfied: jmespath<2.0.0,>=0.7.1 in /home/vscode/.local/lib/python3.10/site-packages (from boto3) (1.0.1)\n",
      "Requirement already satisfied: s3transfer<0.11.0,>=0.10.0 in /home/vscode/.local/lib/python3.10/site-packages (from boto3) (0.10.4)\n",
      "Requirement already satisfied: botocore<1.35.0,>=1.34.25 in /home/vscode/.local/lib/python3.10/site-packages (from boto3) (1.34.162)\n",
      "Requirement already satisfied: urllib3!=2.2.0,<3,>=1.25.4 in /home/vscode/.local/lib/python3.10/site-packages (from botocore<1.35.0,>=1.34.25->boto3) (1.26.20)\n",
      "Requirement already satisfied: python-dateutil<3.0.0,>=2.1 in /home/vscode/.local/lib/python3.10/site-packages (from botocore<1.35.0,>=1.34.25->boto3) (2.9.0.post0)\n",
      "Requirement already satisfied: six>=1.5 in /home/vscode/.local/lib/python3.10/site-packages (from python-dateutil<3.0.0,>=2.1->botocore<1.35.0,>=1.34.25->boto3) (1.17.0)\n",
      "\n",
      "\u001b[1m[\u001b[0m\u001b[34;49mnotice\u001b[0m\u001b[1;39;49m]\u001b[0m\u001b[39;49m A new release of pip is available: \u001b[0m\u001b[31;49m23.0.1\u001b[0m\u001b[39;49m -> \u001b[0m\u001b[32;49m25.1.1\u001b[0m\n",
      "\u001b[1m[\u001b[0m\u001b[34;49mnotice\u001b[0m\u001b[1;39;49m]\u001b[0m\u001b[39;49m To update, run: \u001b[0m\u001b[32;49mpip install --upgrade pip\u001b[0m\n"
     ]
    }
   ],
   "source": [
    "!pip install boto3"
   ]
  }
 ],
 "metadata": {
  "kernelspec": {
   "display_name": "Python 3",
   "language": "python",
   "name": "python3"
  },
  "language_info": {
   "codemirror_mode": {
    "name": "ipython",
    "version": 3
   },
   "file_extension": ".py",
   "mimetype": "text/x-python",
   "name": "python",
   "nbconvert_exporter": "python",
   "pygments_lexer": "ipython3",
   "version": "3.10.18"
  }
 },
 "nbformat": 4,
 "nbformat_minor": 2
}
